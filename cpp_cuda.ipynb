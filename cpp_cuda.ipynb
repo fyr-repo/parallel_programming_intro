{
  "nbformat": 4,
  "nbformat_minor": 0,
  "metadata": {
    "colab": {
      "provenance": [],
      "gpuType": "T4",
      "authorship_tag": "ABX9TyM1SnourdJ73otqONOGA9CX",
      "include_colab_link": true
    },
    "kernelspec": {
      "name": "python3",
      "display_name": "Python 3"
    },
    "language_info": {
      "name": "python"
    },
    "accelerator": "GPU"
  },
  "cells": [
    {
      "cell_type": "markdown",
      "metadata": {
        "id": "view-in-github",
        "colab_type": "text"
      },
      "source": [
        "<a href=\"https://colab.research.google.com/github/fyr-repo/parallel_programming_intro/blob/main/cpp_cuda.ipynb\" target=\"_parent\"><img src=\"https://colab.research.google.com/assets/colab-badge.svg\" alt=\"Open In Colab\"/></a>"
      ]
    },
    {
      "cell_type": "code",
      "execution_count": 1,
      "metadata": {
        "colab": {
          "base_uri": "https://localhost:8080/"
        },
        "id": "lnkfKXwT-6RH",
        "outputId": "407f494c-2bc8-446c-84e0-3cd4cb8b0886"
      },
      "outputs": [
        {
          "output_type": "stream",
          "name": "stdout",
          "text": [
            "nvcc: NVIDIA (R) Cuda compiler driver\n",
            "Copyright (c) 2005-2023 NVIDIA Corporation\n",
            "Built on Tue_Aug_15_22:02:13_PDT_2023\n",
            "Cuda compilation tools, release 12.2, V12.2.140\n",
            "Build cuda_12.2.r12.2/compiler.33191640_0\n"
          ]
        }
      ],
      "source": [
        "! nvcc --version"
      ]
    },
    {
      "cell_type": "code",
      "source": [
        "! pip install nvcc4jupyter\n",
        "\n",
        "%load_ext nvcc4jupyter"
      ],
      "metadata": {
        "colab": {
          "base_uri": "https://localhost:8080/"
        },
        "id": "Mf8wf3Qf_WNH",
        "outputId": "9e3bf389-8264-4608-aff6-648bc5f3acbf"
      },
      "execution_count": 2,
      "outputs": [
        {
          "output_type": "stream",
          "name": "stdout",
          "text": [
            "Collecting nvcc4jupyter\n",
            "  Downloading nvcc4jupyter-1.1.0-py3-none-any.whl (8.0 kB)\n",
            "Installing collected packages: nvcc4jupyter\n",
            "Successfully installed nvcc4jupyter-1.1.0\n",
            "Source files will be saved in \"/tmp/tmpugte_fvi\".\n"
          ]
        }
      ]
    },
    {
      "cell_type": "code",
      "source": [
        "%%cuda\n",
        "\n",
        "#include <iostream>\n",
        "#include <ctime>\n",
        "\n",
        "// CUDA kernel for matrix multiplication\n",
        "__global__ void matrixMulKernel(float *A, float *B, float *C, int rowsA, int colsA, int colsB) {\n",
        "    int row = blockIdx.y * blockDim.y + threadIdx.y;\n",
        "    int col = blockIdx.x * blockDim.x + threadIdx.x;\n",
        "\n",
        "    if (row < rowsA && col < colsB) {\n",
        "        float sum = 0.0f;\n",
        "        for (int i = 0; i < colsA; ++i) {\n",
        "            sum += A[row * colsA + i] * B[i * colsB + col];\n",
        "        }\n",
        "        C[row * colsB + col] = sum;\n",
        "    }\n",
        "}\n",
        "\n",
        "// Function to initialize a matrix\n",
        "void initializeMatrix(float *matrix, int rows, int cols) {\n",
        "    for (int i = 0; i < rows * cols; ++i) {\n",
        "        matrix[i] = 55.55;\n",
        "    }\n",
        "}\n",
        "\n",
        "int main() {\n",
        "\n",
        "    const int rowsA = 1000;\n",
        "    const int colsA = 1000;\n",
        "    const int rowsB = colsA;\n",
        "    const int colsB = 1000;\n",
        "\n",
        "    float *h_A, *h_B, *h_C;\n",
        "    float *d_A, *d_B, *d_C;\n",
        "\n",
        "    size_t sizeA = rowsA * colsA * sizeof(float);\n",
        "    size_t sizeB = rowsB * colsB * sizeof(float);\n",
        "    size_t sizeC = rowsA * colsB * sizeof(float);\n",
        "\n",
        "    // Allocate memory for host matrices\n",
        "    h_A = (float*)malloc(sizeA);\n",
        "    h_B = (float*)malloc(sizeB);\n",
        "    h_C = (float*)malloc(sizeC);\n",
        "\n",
        "    // Initialize host matrices\n",
        "    initializeMatrix(h_A, rowsA, colsA);\n",
        "    initializeMatrix(h_B, rowsB, colsB);\n",
        "\n",
        "    // Allocate memory for device matrices\n",
        "    cudaMalloc(&d_A, sizeA);\n",
        "    cudaMalloc(&d_B, sizeB);\n",
        "    cudaMalloc(&d_C, sizeC);\n",
        "\n",
        "    // Copy host matrices to device\n",
        "    cudaMemcpy(d_A, h_A, sizeA, cudaMemcpyHostToDevice);\n",
        "    cudaMemcpy(d_B, h_B, sizeB, cudaMemcpyHostToDevice);\n",
        "\n",
        "    // Define block and grid dimensions\n",
        "    dim3 blockSize(16, 64);\n",
        "    dim3 gridSize((colsB + blockSize.x - 1) / blockSize.x, (rowsA + blockSize.y - 1) / blockSize.y);\n",
        "\n",
        "    clock_t start = clock();\n",
        "\n",
        "    // Launch kernel\n",
        "    matrixMulKernel<<<gridSize, blockSize>>>(d_A, d_B, d_C, rowsA, colsA, colsB);\n",
        "\n",
        "    clock_t end = clock();\n",
        "\n",
        "    // Copy result matrix from device to host\n",
        "    cudaMemcpy(h_C, d_C, sizeC, cudaMemcpyDeviceToHost);\n",
        "\n",
        "    // Free device memory\n",
        "    cudaFree(d_A);\n",
        "    cudaFree(d_B);\n",
        "    cudaFree(d_C);\n",
        "\n",
        "    // Free host memory\n",
        "    free(h_A);\n",
        "    free(h_B);\n",
        "\n",
        "\n",
        "\n",
        "    double duration = double(end - start) / CLOCKS_PER_SEC;\n",
        "\n",
        "    // Print a few elements of the result matrix\n",
        "    std::cout << \"Result of matrix multiplication:\" << std::endl;\n",
        "    for (int i = 0; i < 5; ++i) {\n",
        "        for (int j = 0; j < 5; ++j) {\n",
        "            std::cout << h_C[i * colsB + j] << \" \";\n",
        "        }\n",
        "        std::cout << std::endl;\n",
        "    }\n",
        "\n",
        "    std::cout << \"Time taken: \" << duration << \" seconds\" << std::endl;\n",
        "\n",
        "    return 0;\n",
        "}\n"
      ],
      "metadata": {
        "colab": {
          "base_uri": "https://localhost:8080/"
        },
        "id": "llsfZ76P_Zva",
        "outputId": "5bd9bff6-5c88-4d89-ada8-a22af53a0267"
      },
      "execution_count": 8,
      "outputs": [
        {
          "output_type": "stream",
          "name": "stdout",
          "text": [
            "Result of matrix multiplication:\n",
            "3.08577e+06 3.08577e+06 3.08577e+06 3.08577e+06 3.08577e+06 \n",
            "3.08577e+06 3.08577e+06 3.08577e+06 3.08577e+06 3.08577e+06 \n",
            "3.08577e+06 3.08577e+06 3.08577e+06 3.08577e+06 3.08577e+06 \n",
            "3.08577e+06 3.08577e+06 3.08577e+06 3.08577e+06 3.08577e+06 \n",
            "3.08577e+06 3.08577e+06 3.08577e+06 3.08577e+06 3.08577e+06 \n",
            "Time taken: 0.00021 seconds\n",
            "\n"
          ]
        }
      ]
    }
  ]
}