{
  "nbformat": 4,
  "nbformat_minor": 0,
  "metadata": {
    "colab": {
      "provenance": [],
      "gpuType": "T4",
      "authorship_tag": "ABX9TyO/Gt8TjCKlfRPyF8ncp/+t",
      "include_colab_link": true
    },
    "kernelspec": {
      "name": "python3",
      "display_name": "Python 3"
    },
    "language_info": {
      "name": "python"
    },
    "accelerator": "GPU"
  },
  "cells": [
    {
      "cell_type": "markdown",
      "metadata": {
        "id": "view-in-github",
        "colab_type": "text"
      },
      "source": [
        "<a href=\"https://colab.research.google.com/github/fyr-repo/parallel_programming_intro/blob/main/matrix_mul_tf_gpu.ipynb\" target=\"_parent\"><img src=\"https://colab.research.google.com/assets/colab-badge.svg\" alt=\"Open In Colab\"/></a>"
      ]
    },
    {
      "cell_type": "code",
      "execution_count": 3,
      "metadata": {
        "id": "te4QHSIXQG39"
      },
      "outputs": [],
      "source": [
        "import tensorflow as tf\n",
        "import numpy as np\n",
        "import time"
      ]
    },
    {
      "cell_type": "code",
      "source": [
        "# Define the dimensions and values of the arrays\n",
        "rows_cols = 1000\n",
        "value = 55.55\n",
        "\n",
        "# Create the input arrays filled with the specified value\n",
        "array1 = tf.constant([[value] * rows_cols] * rows_cols, dtype=tf.float32)\n",
        "array2 = tf.constant([[value] * rows_cols] * rows_cols, dtype=tf.float32)\n",
        "\n",
        "# Measure the start time\n",
        "start_time = time.time()\n",
        "\n",
        "# Perform matrix multiplication\n",
        "result = tf.matmul(array1, array2)\n",
        "\n",
        "# Measure the end time\n",
        "end_time = time.time()\n",
        "\n",
        "# Calculate the time taken for processing\n",
        "processing_time = end_time - start_time\n",
        "\n",
        "# Print the result and time taken for processing\n",
        "print(\"Matrix multiplication result:\")\n",
        "print(result)\n",
        "print(f\"Time taken for processing: {processing_time:.4f} seconds\")\n"
      ],
      "metadata": {
        "colab": {
          "base_uri": "https://localhost:8080/"
        },
        "id": "fKrKi6kvQv8q",
        "outputId": "603afcd7-11e9-4705-f781-b24b396ac37d"
      },
      "execution_count": 10,
      "outputs": [
        {
          "output_type": "stream",
          "name": "stdout",
          "text": [
            "Matrix multiplication result:\n",
            "tf.Tensor(\n",
            "[[3085807.2 3085807.2 3085807.2 ... 3085807.2 3085807.2 3085807.2]\n",
            " [3085807.2 3085807.2 3085807.2 ... 3085807.2 3085807.2 3085807.2]\n",
            " [3085807.2 3085807.2 3085807.2 ... 3085807.2 3085807.2 3085807.2]\n",
            " ...\n",
            " [3085807.2 3085807.2 3085807.2 ... 3085807.2 3085807.2 3085807.2]\n",
            " [3085807.2 3085807.2 3085807.2 ... 3085807.2 3085807.2 3085807.2]\n",
            " [3085807.2 3085807.2 3085807.2 ... 3085807.2 3085807.2 3085807.2]], shape=(1000, 1000), dtype=float32)\n",
            "Time taken for processing: 0.0010 seconds\n"
          ]
        }
      ]
    }
  ]
}