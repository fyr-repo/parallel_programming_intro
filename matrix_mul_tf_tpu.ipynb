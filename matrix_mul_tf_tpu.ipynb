{
  "nbformat": 4,
  "nbformat_minor": 0,
  "metadata": {
    "colab": {
      "provenance": [],
      "authorship_tag": "ABX9TyNC8Hpuiw1REoizsgRMdwH4",
      "include_colab_link": true
    },
    "kernelspec": {
      "name": "python3",
      "display_name": "Python 3"
    },
    "language_info": {
      "name": "python"
    },
    "accelerator": "TPU"
  },
  "cells": [
    {
      "cell_type": "markdown",
      "metadata": {
        "id": "view-in-github",
        "colab_type": "text"
      },
      "source": [
        "<a href=\"https://colab.research.google.com/github/fyr-repo/parallel_programming_intro/blob/main/matrix_mul_tf_tpu.ipynb\" target=\"_parent\"><img src=\"https://colab.research.google.com/assets/colab-badge.svg\" alt=\"Open In Colab\"/></a>"
      ]
    },
    {
      "cell_type": "code",
      "execution_count": 1,
      "metadata": {
        "colab": {
          "base_uri": "https://localhost:8080/"
        },
        "id": "acGl9nCfHIUQ",
        "outputId": "aa28617e-0e2b-4cdf-f3a4-62cdf0fe23f5"
      },
      "outputs": [
        {
          "output_type": "stream",
          "name": "stdout",
          "text": [
            "All devices:  [LogicalDevice(name='/job:worker/replica:0/task:0/device:TPU:0', device_type='TPU'), LogicalDevice(name='/job:worker/replica:0/task:0/device:TPU:1', device_type='TPU'), LogicalDevice(name='/job:worker/replica:0/task:0/device:TPU:2', device_type='TPU'), LogicalDevice(name='/job:worker/replica:0/task:0/device:TPU:3', device_type='TPU'), LogicalDevice(name='/job:worker/replica:0/task:0/device:TPU:4', device_type='TPU'), LogicalDevice(name='/job:worker/replica:0/task:0/device:TPU:5', device_type='TPU'), LogicalDevice(name='/job:worker/replica:0/task:0/device:TPU:6', device_type='TPU'), LogicalDevice(name='/job:worker/replica:0/task:0/device:TPU:7', device_type='TPU')]\n"
          ]
        }
      ],
      "source": [
        "import tensorflow as tf\n",
        "import time\n",
        "import os\n",
        "\n",
        "# Check if TPU is available\n",
        "try:\n",
        "    resolver = tf.distribute.cluster_resolver.TPUClusterResolver(tpu='')\n",
        "    tf.config.experimental_connect_to_cluster(resolver)\n",
        "    # This is the TPU initialization code that has to be at the beginning.\n",
        "    tf.tpu.experimental.initialize_tpu_system(resolver)\n",
        "    print(\"All devices: \", tf.config.list_logical_devices('TPU'))\n",
        "except:\n",
        "    print(\"TPU not available\")"
      ]
    },
    {
      "cell_type": "code",
      "source": [
        "tpu_strategy = tf.distribute.TPUStrategy(resolver)"
      ],
      "metadata": {
        "id": "bL1QjmMDV6eB"
      },
      "execution_count": 2,
      "outputs": []
    },
    {
      "cell_type": "code",
      "source": [
        "# Define the dimensions and values of the arrays\n",
        "rows_cols = 1000\n",
        "value = 55.55\n",
        "\n",
        "batch_size = 32\n",
        "\n",
        "\n",
        "\n",
        "# Create the input arrays filled with the specified value\n",
        "matrix_a = tf.constant([[value] * rows_cols] * rows_cols, dtype=tf.float32)\n",
        "matrix_b = tf.constant([[value] * rows_cols] * rows_cols, dtype=tf.float32)\n",
        "\n",
        "# Perform matrix multiplication on the TPU\n",
        "# with tf.device('/TPU:0'):\n",
        "#     result = tf.matmul(matrix_a, matrix_b)\n",
        "\n",
        "start_time = time.time()\n",
        "\n",
        "with tpu_strategy.scope():\n",
        "    result = tf.linalg.matmul(matrix_a, matrix_b)\n",
        "\n",
        "# result = strategy.run(matmul_fn, args=(matrix_a, matrix_b))\n",
        "\n",
        "end_time = time.time()\n",
        "\n",
        "processing_time = end_time - start_time\n",
        "\n",
        "# Print the result (will be executed on the TPU)\n",
        "print(\"Matrix multiplication result:\")\n",
        "print(result)\n",
        "print(f\"Time taken for processing: {processing_time:.4f} seconds\")\n"
      ],
      "metadata": {
        "colab": {
          "base_uri": "https://localhost:8080/"
        },
        "id": "QluSdSLnP2H8",
        "outputId": "d7bd65d6-8962-4d2f-e283-f0505d0c593a"
      },
      "execution_count": 10,
      "outputs": [
        {
          "output_type": "stream",
          "name": "stdout",
          "text": [
            "Matrix multiplication result:\n",
            "tf.Tensor(\n",
            "[[3085808.2 3085808.2 3085808.2 ... 3085808.2 3085808.2 3085808.2]\n",
            " [3085808.2 3085808.2 3085808.2 ... 3085808.2 3085808.2 3085808.2]\n",
            " [3085808.2 3085808.2 3085808.2 ... 3085808.2 3085808.2 3085808.2]\n",
            " ...\n",
            " [3085808.2 3085808.2 3085808.2 ... 3085808.2 3085808.2 3085808.2]\n",
            " [3085808.2 3085808.2 3085808.2 ... 3085808.2 3085808.2 3085808.2]\n",
            " [3085808.2 3085808.2 3085808.2 ... 3085808.2 3085808.2 3085808.2]], shape=(1000, 1000), dtype=float32)\n",
            "Time taken for processing: 0.0481 seconds\n"
          ]
        }
      ]
    },
    {
      "cell_type": "code",
      "source": [
        "# import tensorflow as tf\n",
        "\n",
        "# # Define the TPU address\n",
        "# tpu_address = 'grpc://<TPU_IP_ADDRESS>'\n",
        "\n",
        "# # Initialize the TPU\n",
        "# tpu_resolver = tf.distribute.cluster_resolver.TPUClusterResolver(tpu=tpu_address)\n",
        "# tf.config.experimental_connect_to_cluster(tpu_resolver)\n",
        "# tf.tpu.experimental.initialize_tpu_system(tpu_resolver)\n",
        "# tpu_strategy = tf.distribute.TPUStrategy(tpu_resolver)\n",
        "\n",
        "# # Define matrix sizes\n",
        "# matrix_size = 1000\n",
        "# batch_size = 32\n",
        "\n",
        "# # Create random matrices\n",
        "# matrix_a = tf.random.normal([batch_size, matrix_size, matrix_size])\n",
        "# matrix_b = tf.random.normal([batch_size, matrix_size, matrix_size])\n",
        "\n",
        "# # Wrap the computation inside the TPU strategy scope\n",
        "# with tpu_strategy.scope():\n",
        "#     # Create TensorFlow Dataset\n",
        "#     dataset = tf.data.Dataset.from_tensor_slices((matrix_a, matrix_b)).batch(batch_size)\n",
        "\n",
        "#     # Define matrix multiplication function\n",
        "#     @tf.function\n",
        "#     def matmul_fn(a, b):\n",
        "#         return tf.linalg.matmul(a, b)\n",
        "\n",
        "#     # Perform matrix multiplication using distributed training\n",
        "#     for step, (batch_a, batch_b) in enumerate(dataset):\n",
        "#         # Perform matrix multiplication\n",
        "#         result = tpu_strategy.run(matmul_fn, args=(batch_a, batch_b))\n",
        "\n",
        "#         # Print result or perform further operations\n",
        "#         print(f\"Step {step + 1}: Result shape {result.shape}\")\n",
        "\n",
        "# # Clean up resources\n",
        "# tf.tpu.experimental.shutdown_tpu_system()"
      ],
      "metadata": {
        "id": "D3JaPIvcZtZm"
      },
      "execution_count": null,
      "outputs": []
    }
  ]
}