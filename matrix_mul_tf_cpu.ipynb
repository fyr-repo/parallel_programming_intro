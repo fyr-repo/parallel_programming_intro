{
  "nbformat": 4,
  "nbformat_minor": 0,
  "metadata": {
    "colab": {
      "provenance": [],
      "authorship_tag": "ABX9TyN2hV42FainudzWzM/72GoJ",
      "include_colab_link": true
    },
    "kernelspec": {
      "name": "python3",
      "display_name": "Python 3"
    },
    "language_info": {
      "name": "python"
    }
  },
  "cells": [
    {
      "cell_type": "markdown",
      "metadata": {
        "id": "view-in-github",
        "colab_type": "text"
      },
      "source": [
        "<a href=\"https://colab.research.google.com/github/fyr-repo/parallel_programming_intro/blob/main/matrix_mul_tf_cpu.ipynb\" target=\"_parent\"><img src=\"https://colab.research.google.com/assets/colab-badge.svg\" alt=\"Open In Colab\"/></a>"
      ]
    },
    {
      "cell_type": "code",
      "source": [
        "import tensorflow as tf\n",
        "import numpy as np\n",
        "import time"
      ],
      "metadata": {
        "id": "1x66T8jBR26E"
      },
      "execution_count": 1,
      "outputs": []
    },
    {
      "cell_type": "code",
      "execution_count": 3,
      "metadata": {
        "colab": {
          "base_uri": "https://localhost:8080/"
        },
        "id": "_I1eL7ppRej2",
        "outputId": "b5d29d2f-6ee4-427c-e428-f8baafad3e4a"
      },
      "outputs": [
        {
          "output_type": "stream",
          "name": "stdout",
          "text": [
            "Matrix multiplication result:\n",
            "tf.Tensor(\n",
            "[[3085808.2 3085808.2 3085808.2 ... 3085804.  3085804.  3085804. ]\n",
            " [3085808.2 3085808.2 3085808.2 ... 3085804.  3085804.  3085804. ]\n",
            " [3085808.2 3085808.2 3085808.2 ... 3085804.  3085804.  3085804. ]\n",
            " ...\n",
            " [3085808.2 3085808.2 3085808.2 ... 3085804.  3085804.  3085804. ]\n",
            " [3085808.2 3085808.2 3085808.2 ... 3085804.  3085804.  3085804. ]\n",
            " [3085808.2 3085808.2 3085808.2 ... 3085804.  3085804.  3085804. ]], shape=(1000, 1000), dtype=float32)\n",
            "Time taken for processing: 0.0394 seconds\n"
          ]
        }
      ],
      "source": [
        "# Define the dimensions and values of the arrays\n",
        "rows_cols = 1000\n",
        "value = 55.55\n",
        "\n",
        "# Create the input arrays filled with the specified value\n",
        "array1 = tf.constant([[value] * rows_cols] * rows_cols, dtype=tf.float32)\n",
        "array2 = tf.constant([[value] * rows_cols] * rows_cols, dtype=tf.float32)\n",
        "\n",
        "# Measure the start time\n",
        "start_time = time.time()\n",
        "\n",
        "# Perform matrix multiplication\n",
        "result = tf.matmul(array1, array2)\n",
        "\n",
        "# Measure the end time\n",
        "end_time = time.time()\n",
        "\n",
        "# Calculate the time taken for processing\n",
        "processing_time = end_time - start_time\n",
        "\n",
        "# Print the result and time taken for processing\n",
        "print(\"Matrix multiplication result:\")\n",
        "print(result)\n",
        "print(f\"Time taken for processing: {processing_time:.4f} seconds\")"
      ]
    }
  ]
}